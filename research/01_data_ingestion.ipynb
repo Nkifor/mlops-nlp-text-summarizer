{
 "cells": [
  {
   "cell_type": "code",
   "execution_count": 1,
   "metadata": {},
   "outputs": [],
   "source": [
    "import os\n"
   ]
  },
  {
   "cell_type": "code",
   "execution_count": 2,
   "metadata": {},
   "outputs": [
    {
     "name": "stderr",
     "output_type": "stream",
     "text": [
      "c:\\Users\\Admin\\anaconda3\\envs\\mlops\\lib\\site-packages\\tqdm\\auto.py:21: TqdmWarning: IProgress not found. Please update jupyter and ipywidgets. See https://ipywidgets.readthedocs.io/en/stable/user_install.html\n",
      "  from .autonotebook import tqdm as notebook_tqdm\n"
     ]
    },
    {
     "data": {
      "text/plain": [
       "'c:\\\\Edu\\\\Python\\\\MLOPS_projects\\\\mlops_nlp_summarizer\\\\research'"
      ]
     },
     "execution_count": 2,
     "metadata": {},
     "output_type": "execute_result"
    }
   ],
   "source": [
    "from datasets import load_dataset\n",
    "\n",
    "%pwd"
   ]
  },
  {
   "cell_type": "code",
   "execution_count": 2,
   "metadata": {},
   "outputs": [],
   "source": [
    "dataset = load_dataset('samsum')"
   ]
  },
  {
   "cell_type": "code",
   "execution_count": 9,
   "metadata": {},
   "outputs": [
    {
     "name": "stdout",
     "output_type": "stream",
     "text": [
      "DatasetDict({\n",
      "    train: Dataset({\n",
      "        features: ['id', 'dialogue', 'summary'],\n",
      "        num_rows: 14732\n",
      "    })\n",
      "    test: Dataset({\n",
      "        features: ['id', 'dialogue', 'summary'],\n",
      "        num_rows: 819\n",
      "    })\n",
      "    validation: Dataset({\n",
      "        features: ['id', 'dialogue', 'summary'],\n",
      "        num_rows: 818\n",
      "    })\n",
      "})\n"
     ]
    }
   ],
   "source": [
    "print(dataset)"
   ]
  },
  {
   "cell_type": "code",
   "execution_count": 3,
   "metadata": {},
   "outputs": [],
   "source": [
    "os.chdir(\"../\")"
   ]
  },
  {
   "cell_type": "code",
   "execution_count": 4,
   "metadata": {},
   "outputs": [
    {
     "data": {
      "text/plain": [
       "'c:\\\\Edu\\\\Python\\\\MLOPS_projects\\\\mlops_nlp_summarizer'"
      ]
     },
     "execution_count": 4,
     "metadata": {},
     "output_type": "execute_result"
    }
   ],
   "source": [
    "%pwd"
   ]
  },
  {
   "cell_type": "code",
   "execution_count": 5,
   "metadata": {},
   "outputs": [],
   "source": [
    "#entity is returned type of the function\n",
    "# we can create custom return type:\n",
    "\n",
    "\n",
    "from dataclasses import dataclass\n",
    "from pathlib import Path\n",
    "\n",
    "# below looks similatly to the config file data ingestion\n",
    "@dataclass(frozen=True)\n",
    "class DataIngestionConfigUnzipLink:\n",
    "    root_dir: Path\n",
    "    source_URL_zipped: str\n",
    "    local_data_file: Path\n",
    "    unzip_dir: Path\n",
    "\n",
    "\n",
    "@dataclass(frozen=True)\n",
    "class DataIngestionConfigLink:\n",
    "    root_dir: Path\n",
    "    source_URL: str\n",
    "    local_data_file: Path\n",
    "\n",
    "\n",
    "@dataclass(frozen=True)\n",
    "class DataIngestionConfigLibrary:\n",
    "    root_dir: Path\n",
    "    local_data_dir: Path\n",
    "    library_dataset_name: str\n",
    "    "
   ]
  },
  {
   "cell_type": "code",
   "execution_count": 6,
   "metadata": {},
   "outputs": [],
   "source": [
    "\n",
    "#Now we need to read yaml file and we mentioned it in constants folder in constructor file \n",
    "    # we do it only once in the beginning of the project\n",
    "\n",
    "from mlops_NLP_Text_Summarization.constants import *\n",
    "from mlops_NLP_Text_Summarization.utils.common import read_yaml, create_directories\n"
   ]
  },
  {
   "cell_type": "code",
   "execution_count": 7,
   "metadata": {},
   "outputs": [],
   "source": [
    "class ConfigurationManager:\n",
    "    def __init__(\n",
    "        self,\n",
    "        config_filepath = CONFIG_FILE_PATH,\n",
    "        params_filepath = PARAMS_FILE_PATH):\n",
    "\n",
    "        self.config = read_yaml(config_filepath)\n",
    "        self.params = read_yaml(params_filepath)\n",
    "\n",
    "\n",
    "\n",
    "        create_directories([self.config.artifacts_root])\n",
    "\n",
    "    def choose_type_of_data_ingestion(self):\n",
    "\n",
    "\n",
    "        try:\n",
    "\n",
    "            #for rulesingestion in self.config.rulesingestion:\n",
    "            #    if rulesingestion['type'] == \"link_zipped\" and rulesingestion['source_URL_zipped'] is not None:\n",
    "            #        return self.get_data_ingestion_config_unzip_link()\n",
    "            #    if rulesingestion['type'] == \"link\" and rulesingestion['source_URL'] is not None:\n",
    "            #        return self.get_data_ingestion_config_link()\n",
    "            #    if rulesingestion['type'] == \"library_huggingface_dataset\" and rulesingestion['library_dataset_name'] is not None:\n",
    "            #        return self.get_data_ingestion_config_library()\n",
    "\n",
    "\n",
    "            if self.config.rulesingestion.data_ingestion_link_zipped.source_URL_zipped is not False:\n",
    "                return self.get_data_ingestion_config_unzip_link()\n",
    "            if self.config.rulesingestion.data_ingestion_link.source_URL is not False:\n",
    "                return self.get_data_ingestion_config_link()\n",
    "            if self.config.rulesingestion.data_ingestion_library_hugging_face_dataset.library_dataset_name is not False:\n",
    "                return self.get_data_ingestion_config_library()\n",
    "            else:\n",
    "                raise ValueError(\"data ingestion type not supported\")\n",
    "        except Exception as e:\n",
    "            print(e)\n",
    "            raise Exception(e)\n",
    "            \n",
    "\n",
    "\n",
    "\n",
    "    def get_data_ingestion_config_unzip_link(self) -> DataIngestionConfigUnzipLink:\n",
    "        config = self.config.rulesingestion.data_ingestion_link_zipped\n",
    "\n",
    "        create_directories([config.root_dir])\n",
    "\n",
    "        data_ingestion_unzip_link_config = DataIngestionConfigUnzipLink(\n",
    "            root_dir=config.root_dir,\n",
    "            source_URL_zipped=config.source_URL_zipped,\n",
    "            local_data_file=config.local_data_file,\n",
    "            unzip_dir=config.unzip_dir \n",
    "        )\n",
    "\n",
    "        return data_ingestion_unzip_link_config\n",
    "    \n",
    "    def get_data_ingestion_config_link(self) -> DataIngestionConfigLink:\n",
    "        config = self.config.rulesingestion.data_ingestion_link\n",
    "\n",
    "        create_directories([config.root_dir])\n",
    "\n",
    "        data_ingestion_link_config = DataIngestionConfigLink(\n",
    "            root_dir=config.root_dir,\n",
    "            source_URL=config.source_URL,\n",
    "            local_data_file=config.local_data_file,\n",
    "            \n",
    "        )\n",
    "\n",
    "        return data_ingestion_link_config\n",
    "    \n",
    "    def get_data_ingestion_config_library(self) -> DataIngestionConfigLibrary:\n",
    "        config = self.config.rulesingestion.data_ingestion_library_hugging_face_dataset\n",
    "\n",
    "        create_directories([config.root_dir])\n",
    "\n",
    "        data_ingestion_library_config = DataIngestionConfigLibrary(\n",
    "            root_dir=config.root_dir,\n",
    "            local_data_dir=config.local_data_dir,\n",
    "            library_dataset_name=config.library_dataset_name,\n",
    "\n",
    "            \n",
    "        )\n",
    "\n",
    "        return data_ingestion_library_config"
   ]
  },
  {
   "cell_type": "code",
   "execution_count": 8,
   "metadata": {},
   "outputs": [],
   "source": [
    "import os\n",
    "import urllib.request as request\n",
    "import zipfile\n",
    "import pandas as pd\n",
    "import datasets\n",
    "from mlops_NLP_Text_Summarization.logging import logger\n",
    "from mlops_NLP_Text_Summarization.utils.common import get_size"
   ]
  },
  {
   "cell_type": "code",
   "execution_count": 11,
   "metadata": {},
   "outputs": [],
   "source": [
    "class DataIngestionUnzippedLink:\n",
    "    def __init__(self, config: DataIngestionConfigUnzipLink):\n",
    "        self.config = config\n",
    "\n",
    "\n",
    "    \n",
    "    def download_file(self):\n",
    "        if not os.path.exists(self.config.local_data_file):\n",
    "            filename, headers = request.urlretrieve(\n",
    "                url = self.config.source_URL_zipped,\n",
    "                filename = self.config.local_data_file\n",
    "            )\n",
    "            logger.info(f\"{filename} download! with following info: \\n{headers}\")\n",
    "        else:\n",
    "            logger.info(f\"File already exists of size: {get_size(Path(self.config.local_data_file))}\")  \n",
    "\n",
    "\n",
    "    \n",
    "    def extract_zip_file(self):\n",
    "        \"\"\"\n",
    "        zip_file_path: str\n",
    "        Extracts the zip file into the data directory\n",
    "        Function returns None\n",
    "        \"\"\"\n",
    "        unzip_path = self.config.unzip_dir\n",
    "        os.makedirs(unzip_path, exist_ok=True)\n",
    "        with zipfile.ZipFile(self.config.local_data_file, 'r') as zip_ref:\n",
    "            zip_ref.extractall(unzip_path)\n",
    "\n",
    "class DataIngestionLink:\n",
    "    def __init__(self, config: DataIngestionConfigLink):\n",
    "        self.config = config\n",
    "\n",
    "\n",
    "    \n",
    "    def download_file(self):\n",
    "        if not os.path.exists(self.config.local_data_file):\n",
    "            filename, headers = request.urlretrieve(\n",
    "                url = self.config.source_URL,\n",
    "                filename = self.config.local_data_file\n",
    "            )\n",
    "            logger.info(f\"{filename} download! with following info: \\n{headers}\")\n",
    "        else:\n",
    "            logger.info(f\"File already exists of size: {get_size(Path(self.config.local_data_file))}\")  \n",
    "\n",
    "\n",
    "class DataIngestionLibrary:\n",
    "    def __init__(self, config: DataIngestionConfigLibrary):\n",
    "        self.config = config\n",
    "\n",
    "\n",
    "    \n",
    "    def get_data_from_library(self):\n",
    "        if not os.path.exists(self.config.local_data_dir):\n",
    "            directory =  os.makedirs(self.config.local_data_dir, exist_ok=True)\n",
    "            directory_train = os.makedirs(self.config.local_data_dir + \"/train\", exist_ok=True)\n",
    "            directory_test = os.makedirs(self.config.local_data_dir + \"/test\", exist_ok=True)\n",
    "            directory_validation = os.makedirs(self.config.local_data_dir + \"/validation\", exist_ok=True)\n",
    "            load_train = load_dataset(\"samsum\", split =\"train\")\n",
    "            df_load_train = pd.DataFrame(load_train)\n",
    "            df_load_train.to_csv(self.config.local_data_dir +  \"/train/train.csv\")\n",
    "            load_test = load_dataset(\"samsum\", split =\"test\")\n",
    "            df_load_test = pd.DataFrame(load_test)\n",
    "            df_load_test.to_csv(self.config.local_data_dir + \"/test/test.csv\")\n",
    "            load_validation = load_dataset(\"samsum\", split =\"validation\")\n",
    "            df_load_validation = pd.DataFrame(load_validation)\n",
    "            df_load_validation.to_csv(self.config.local_data_dir + \"/validation/validation.csv\")\n",
    "            \n",
    "            #dataset_test = load_dataset(\"samsum\", split =\"test\").to_csv(self.config.local_data_dir/\"test.csv\"),\n",
    "            #dataset_validation = load_dataset(\"samsum\", split =\"validation\").to_csv(self.config.local_data_dir/\"validation.csv\")\n",
    "        \n",
    "            logger.info(f\" Directory in path {self.config.local_data_dir} was created from library! with following files: \\n train.csv \\n  test.csv \\n validation.csv \")\n",
    "        else:\n",
    "            logger.info(f\"Folder already exists of size: {get_size(Path(self.config.local_data_dir))}\")  \n",
    "\n"
   ]
  },
  {
   "cell_type": "code",
   "execution_count": 12,
   "metadata": {},
   "outputs": [
    {
     "name": "stdout",
     "output_type": "stream",
     "text": [
      "[2023-08-06 15:29:02,224: INFO: common: yaml file: config\\config.yaml loaded successfully]\n",
      "[2023-08-06 15:29:02,226: INFO: common: yaml file: params.yaml loaded successfully]\n",
      "[2023-08-06 15:29:02,228: INFO: common: created directory at: artifacts]\n",
      "[2023-08-06 15:29:02,229: INFO: 1532702591: ConfigManager initialized: <__main__.ConfigurationManager object at 0x000001D747EEB820>]\n",
      "[2023-08-06 15:29:02,230: INFO: common: created directory at: artifacts/data_ingestion]\n",
      "DataIngestionConfigLibrary(root_dir='artifacts/data_ingestion', local_data_dir='artifacts/data_ingestion/samsum', library_dataset_name='samsum')\n",
      "[2023-08-06 15:29:02,231: INFO: common: created directory at: artifacts/data_ingestion]\n",
      "Method returned\n",
      "[2023-08-06 15:29:02,232: INFO: common: created directory at: artifacts/data_ingestion]\n",
      "[2023-08-06 15:29:02,233: INFO: 1532702591: Data ingestion type chosen: DataIngestionConfigLibrary(root_dir='artifacts/data_ingestion', local_data_dir='artifacts/data_ingestion/samsum', library_dataset_name='samsum')]\n",
      "[2023-08-06 15:29:02,234: INFO: common: created directory at: artifacts/data_ingestion]\n",
      "[2023-08-06 15:29:02,235: INFO: 1532702591: Data ingestion type confirmed ]\n",
      "[2023-08-06 15:29:02,235: INFO: 1532702591: Data ingestion type configured in class DataIngestionLibrary:]\n"
     ]
    },
    {
     "name": "stderr",
     "output_type": "stream",
     "text": [
      "Using the latest cached version of the module from C:\\Users\\Admin\\.cache\\huggingface\\modules\\datasets_modules\\datasets\\samsum\\f1d7c6b7353e6de335d444e424dc002ef70d1277109031327bc9cc6af5d3d46e (last modified on Fri Aug  4 23:41:02 2023) since it couldn't be found locally at samsum., or remotely on the Hugging Face Hub.\n"
     ]
    },
    {
     "name": "stdout",
     "output_type": "stream",
     "text": [
      "[2023-08-06 15:29:02,253: WARNING: load: Using the latest cached version of the module from C:\\Users\\Admin\\.cache\\huggingface\\modules\\datasets_modules\\datasets\\samsum\\f1d7c6b7353e6de335d444e424dc002ef70d1277109031327bc9cc6af5d3d46e (last modified on Fri Aug  4 23:41:02 2023) since it couldn't be found locally at samsum., or remotely on the Hugging Face Hub.]\n",
      "[2023-08-06 15:29:08,749: INFO: 1730958069:  Directory in path artifacts/data_ingestion/samsum was created from library! with following files: \n",
      " train.csv \n",
      "  test.csv \n",
      " validation.csv ]\n",
      "[2023-08-06 15:29:08,754: INFO: 1532702591: Data ingestion performed]\n"
     ]
    }
   ],
   "source": [
    "try:\n",
    "    config = ConfigurationManager()\n",
    "    logger.info(f\"ConfigManager initialized: {config}\")\n",
    "    data_ingestion_selection = config.choose_type_of_data_ingestion()\n",
    "    print(data_ingestion_selection)\n",
    "    if data_ingestion_selection == config.get_data_ingestion_config_library():\n",
    "        print(\"Method returned\")\n",
    "        logger.info(f\"Data ingestion type chosen: {config.get_data_ingestion_config_library()}\")\n",
    "        data_ingestion_config = config.get_data_ingestion_config_library()\n",
    "        logger.info(f\"Data ingestion type confirmed \")\n",
    "        data_ingestion = DataIngestionLibrary(config=data_ingestion_config)\n",
    "        logger.info(f\"Data ingestion type configured in class DataIngestionLibrary:\")\n",
    "        data_ingestion.get_data_from_library()\n",
    "        logger.info(f\"Data ingestion performed\")\n",
    "    else:\n",
    "\n",
    "        print(\"Method did not return\")\n",
    "    \n",
    "    #data_ingestion = DataIngestion(config=data_ingestion_config)\n",
    "    #data_ingestion.download_file()\n",
    "    #data_ingestion.extract_zip_file()\n",
    "except Exception as e:\n",
    "    raise e"
   ]
  },
  {
   "cell_type": "code",
   "execution_count": null,
   "metadata": {},
   "outputs": [],
   "source": []
  }
 ],
 "metadata": {
  "kernelspec": {
   "display_name": "mlops",
   "language": "python",
   "name": "python3"
  },
  "language_info": {
   "codemirror_mode": {
    "name": "ipython",
    "version": 3
   },
   "file_extension": ".py",
   "mimetype": "text/x-python",
   "name": "python",
   "nbconvert_exporter": "python",
   "pygments_lexer": "ipython3",
   "version": "3.8.17"
  },
  "orig_nbformat": 4
 },
 "nbformat": 4,
 "nbformat_minor": 2
}
