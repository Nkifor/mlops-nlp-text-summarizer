{
 "cells": [
  {
   "cell_type": "code",
   "execution_count": 3,
   "metadata": {},
   "outputs": [],
   "source": [
    "import os\n",
    "\n",
    "import mlflow"
   ]
  },
  {
   "cell_type": "code",
   "execution_count": 4,
   "metadata": {},
   "outputs": [
    {
     "data": {
      "text/plain": [
       "'c:\\\\Edu\\\\Python\\\\MLOPS_projects\\\\mlops_nlp_summarizer\\\\research'"
      ]
     },
     "execution_count": 4,
     "metadata": {},
     "output_type": "execute_result"
    }
   ],
   "source": [
    "\n",
    "%pwd"
   ]
  },
  {
   "cell_type": "code",
   "execution_count": 5,
   "metadata": {},
   "outputs": [],
   "source": [
    "NUMEXPR_MAX_THREADS = 20"
   ]
  },
  {
   "cell_type": "code",
   "execution_count": 6,
   "metadata": {},
   "outputs": [],
   "source": [
    "os.chdir(\"../\")"
   ]
  },
  {
   "cell_type": "code",
   "execution_count": 7,
   "metadata": {},
   "outputs": [
    {
     "data": {
      "text/plain": [
       "'c:\\\\Edu\\\\Python\\\\MLOPS_projects\\\\mlops_nlp_summarizer'"
      ]
     },
     "execution_count": 7,
     "metadata": {},
     "output_type": "execute_result"
    }
   ],
   "source": [
    "%pwd"
   ]
  },
  {
   "cell_type": "code",
   "execution_count": 8,
   "metadata": {},
   "outputs": [],
   "source": [
    "from dataclasses import dataclass\n",
    "from pathlib import Path\n"
   ]
  },
  {
   "cell_type": "code",
   "execution_count": 9,
   "metadata": {},
   "outputs": [],
   "source": [
    "@dataclass(frozen=True)\n",
    "class CredentialsConfig:\n",
    "    MLFLOW_TRACKING_URI: str\n",
    "    MLFLOW_TRACKING_USERNAME: str\n",
    "    MLFLOW_TRACKING_PASSWORD: str\n"
   ]
  },
  {
   "cell_type": "code",
   "execution_count": 10,
   "metadata": {},
   "outputs": [],
   "source": [
    "from mlops_NLP_Text_Summarization.constants import *\n",
    "from mlops_NLP_Text_Summarization.utils.common import read_yaml, create_directories, save_json"
   ]
  },
  {
   "cell_type": "code",
   "execution_count": 11,
   "metadata": {},
   "outputs": [],
   "source": [
    "class Credentials:\n",
    "    def __init__(\n",
    "        self,\n",
    "        secrets_filepath = SECRETS_FILE_PATH):\n",
    "        \n",
    "\n",
    "        self.secret= read_yaml(secrets_filepath)\n",
    "    \n",
    "    def get_mlflow_tracking_credentials(self) -> CredentialsConfig:\n",
    "        secret = self.secret\n",
    "        \n",
    "        model_evaluation_config = CredentialsConfig(\n",
    "            MLFLOW_TRACKING_URI=self.secret.MLFLOW_TRACKING_URI,\n",
    "            MLFLOW_TRACKING_USERNAME=self.secret.MLFLOW_TRACKING_USERNAME,\n",
    "            MLFLOW_TRACKING_PASSWORD = self.secret.MLFLOW_TRACKING_PASSWORD                  \n",
    "           \n",
    "        )\n",
    "        return {\n",
    "            \"MLFLOW_TRACKING_URI\": model_evaluation_config.MLFLOW_TRACKING_URI,\n",
    "            \"MLFLOW_TRACKING_USERNAME\": model_evaluation_config.MLFLOW_TRACKING_USERNAME,\n",
    "            \"MLFLOW_TRACKING_PASSWORD\": model_evaluation_config.MLFLOW_TRACKING_PASSWORD\n",
    "        }\n",
    "    "
   ]
  },
  {
   "cell_type": "code",
   "execution_count": 12,
   "metadata": {},
   "outputs": [
    {
     "name": "stdout",
     "output_type": "stream",
     "text": [
      "[2023-08-09 16:13:25,722: INFO: common: yaml file: secrets.yaml loaded successfully]\n"
     ]
    }
   ],
   "source": [
    "credentials = Credentials()"
   ]
  },
  {
   "cell_type": "code",
   "execution_count": 13,
   "metadata": {},
   "outputs": [],
   "source": [
    "mlflow_credentials = credentials.get_mlflow_tracking_credentials()"
   ]
  },
  {
   "cell_type": "code",
   "execution_count": 14,
   "metadata": {},
   "outputs": [],
   "source": [
    "os.environ[\"MLFLOW_TRACKING_URI\"] = mlflow_credentials[\"MLFLOW_TRACKING_URI\"]"
   ]
  },
  {
   "cell_type": "code",
   "execution_count": 15,
   "metadata": {},
   "outputs": [],
   "source": [
    "os.environ[\"MLFLOW_TRACKING_USERNAME\"] = mlflow_credentials[\"MLFLOW_TRACKING_USERNAME\"]"
   ]
  },
  {
   "cell_type": "code",
   "execution_count": 16,
   "metadata": {},
   "outputs": [],
   "source": [
    "os.environ[\"MLFLOW_TRACKING_PASSWORD\"] = mlflow_credentials[\"MLFLOW_TRACKING_PASSWORD\"]"
   ]
  },
  {
   "cell_type": "code",
   "execution_count": 17,
   "metadata": {},
   "outputs": [],
   "source": [
    "PROTOCOL_BUFFERS_PYTHON_IMPLEMENTATION=\"python\""
   ]
  },
  {
   "cell_type": "code",
   "execution_count": 18,
   "metadata": {},
   "outputs": [],
   "source": [
    "from dataclasses import dataclass\n",
    "from pathlib import Path\n",
    "\n",
    "\n",
    "@dataclass(frozen=True)\n",
    "class ModelEvaluationConfig:\n",
    "    root_dir: Path\n",
    "    data_path: Path\n",
    "    model_path: Path\n",
    "    params: dict\n",
    "    tokenizer_path: Path\n",
    "    metric_file_name: Path\n",
    "    mlflow_uri: str\n",
    "    experiment_name: str\n",
    "    model_path_packed: Path"
   ]
  },
  {
   "cell_type": "code",
   "execution_count": 19,
   "metadata": {},
   "outputs": [],
   "source": [
    "from mlops_NLP_Text_Summarization.constants import *\n",
    "from mlops_NLP_Text_Summarization.utils.common import read_yaml, create_directories, save_json\n"
   ]
  },
  {
   "cell_type": "code",
   "execution_count": 20,
   "metadata": {},
   "outputs": [],
   "source": [
    "class ConfigurationManager:\n",
    "    def __init__(\n",
    "        self,\n",
    "        config_filepath = CONFIG_FILE_PATH,\n",
    "        secrets_filepath = SECRETS_FILE_PATH,\n",
    "        params_filepath = PARAMS_FILE_PATH\n",
    "        ):\n",
    "\n",
    "        self.config = read_yaml(config_filepath)\n",
    "        self.params = read_yaml(params_filepath)\n",
    "        self.secrets = read_yaml(secrets_filepath)\n",
    "\n",
    "        create_directories([self.config.artifacts_root])\n",
    "\n",
    "\n",
    "    \n",
    "    def get_model_evaluation_config(self) -> ModelEvaluationConfig:\n",
    "        config = self.config.model_evaluation\n",
    "        params = self.params.TrainingArguments\n",
    "        secrets = self.secrets\n",
    "\n",
    "        create_directories([config.root_dir])\n",
    "\n",
    "        model_evaluation_config = ModelEvaluationConfig(\n",
    "            root_dir=config.root_dir,\n",
    "            data_path=config.data_path,\n",
    "            model_path = config.model_path,\n",
    "            tokenizer_path = config.tokenizer_path,\n",
    "            params = params,            \n",
    "            metric_file_name = config.metric_file_name,\n",
    "            mlflow_uri = secrets.MLFLOW_TRACKING_URI,\n",
    "            experiment_name=config.experiment_name,\n",
    "            model_path_packed= config.model_path_packed,\n",
    "            \n",
    "        )\n",
    "\n",
    "        return model_evaluation_config"
   ]
  },
  {
   "cell_type": "code",
   "execution_count": 21,
   "metadata": {},
   "outputs": [
    {
     "name": "stderr",
     "output_type": "stream",
     "text": [
      "c:\\Users\\Admin\\anaconda3\\envs\\mlops\\lib\\site-packages\\tqdm\\auto.py:21: TqdmWarning: IProgress not found. Please update jupyter and ipywidgets. See https://ipywidgets.readthedocs.io/en/stable/user_install.html\n",
      "  from .autonotebook import tqdm as notebook_tqdm\n"
     ]
    }
   ],
   "source": [
    "from transformers import AutoModelForSeq2SeqLM, AutoTokenizer\n",
    "from datasets import load_dataset, load_from_disk, load_metric\n",
    "import torch\n",
    "import pandas as pd\n",
    "from tqdm import tqdm\n",
    "from urllib.parse import urlparse\n",
    "import json\n",
    "import joblib\n",
    "import yaml"
   ]
  },
  {
   "cell_type": "code",
   "execution_count": 31,
   "metadata": {},
   "outputs": [],
   "source": [
    "class ModelEvaluation:\n",
    "    def __init__(self, config: ModelEvaluationConfig):\n",
    "        self.config = config\n",
    "\n",
    "\n",
    "    \n",
    "    def generate_batch_sized_chunks(self,list_of_elements, batch_size):\n",
    "        \"\"\"split the dataset into smaller batches that we can process simultaneously\n",
    "        Yield successive batch-sized chunks from list_of_elements.\"\"\"\n",
    "        for i in range(0, len(list_of_elements), batch_size):\n",
    "            yield list_of_elements[i : i + batch_size]\n",
    "\n",
    "    \n",
    "    def calculate_metric_on_test_ds(self,dataset, metric, model, tokenizer, \n",
    "                               batch_size=16, device=\"cuda\" if torch.cuda.is_available() else \"cpu\", \n",
    "                               column_text=\"article\", \n",
    "                               column_summary=\"highlights\"):\n",
    "        article_batches = list(self.generate_batch_sized_chunks(dataset[column_text], batch_size))\n",
    "        target_batches = list(self.generate_batch_sized_chunks(dataset[column_summary], batch_size))\n",
    "\n",
    "        for article_batch, target_batch in tqdm(\n",
    "            zip(article_batches, target_batches), total=len(article_batches)):\n",
    "            \n",
    "            inputs = tokenizer(article_batch, max_length=1024,  truncation=True, \n",
    "                            padding=\"max_length\", return_tensors=\"pt\")\n",
    "            \n",
    "            summaries = model.generate(input_ids=inputs[\"input_ids\"].to(device),\n",
    "                            attention_mask=inputs[\"attention_mask\"].to(device), \n",
    "                            length_penalty=0.8, num_beams=8, max_length=128)\n",
    "            ''' parameter for length penalty ensures that the model does not generate sequences that are too long. '''\n",
    "            \n",
    "            #  We decode the generated texts, \n",
    "            # replace the  token, and add the decoded texts with the references to the metric.\n",
    "            decoded_summaries = [tokenizer.decode(s, skip_special_tokens=True, \n",
    "                                    clean_up_tokenization_spaces=True) \n",
    "                for s in summaries]      \n",
    "            \n",
    "            decoded_summaries = [d.replace(\"\", \" \") for d in decoded_summaries]\n",
    "            \n",
    "            \n",
    "            metric.add_batch(predictions=decoded_summaries, references=target_batch)\n",
    "            \n",
    "        #  Finally compute and return the ROUGE scores.\n",
    "        score = metric.compute()\n",
    "        return score\n",
    "\n",
    "\n",
    "    def evaluate(self):\n",
    "        device = \"cuda\" if torch.cuda.is_available() else \"cpu\"\n",
    "        tokenizer = AutoTokenizer.from_pretrained(self.config.tokenizer_path)\n",
    "        model_pegasus = AutoModelForSeq2SeqLM.from_pretrained(self.config.model_path).to(device)\n",
    "       \n",
    "        #loading data \n",
    "        dataset_samsum_pt = load_from_disk(self.config.data_path)\n",
    "        \n",
    "\n",
    "        if mlflow.active_run():\n",
    "            mlflow.end_run()\n",
    "        with mlflow.start_run(run_name=self.config.experiment_name) as run:\n",
    "        \n",
    "    \n",
    "            \n",
    "            mlflow.log_params(self.config.params)\n",
    "            \n",
    "            rouge_names = [\"rouge1\", \"rouge2\", \"rougeL\", \"rougeLsum\"]\n",
    "    \n",
    "            rouge_metric = load_metric('rouge')\n",
    "\n",
    "            score = self.calculate_metric_on_test_ds(\n",
    "            dataset_samsum_pt['test'][0:10], rouge_metric, model_pegasus, tokenizer, batch_size = 2, column_text = 'dialogue', column_summary= 'summary'\n",
    "                )\n",
    "            \n",
    "\n",
    "            # MLflow >= 2.0\n",
    "            mlflow.doctor() \n",
    "            mlflow.pytorch.log_model(model_pegasus, 'model')\n",
    "\n",
    "            rouge_dict = dict((rn, score[rn].mid.fmeasure ) for rn in rouge_names )\n",
    "        \n",
    "            save_json(path=Path(self.config.metric_file_name), data=rouge_dict)        \n",
    "            \n",
    "            mlflow.log_metric('rouge1', rouge_dict['rouge1'])\n",
    "            mlflow.log_metric('rouge2', rouge_dict['rouge2'])\n",
    "            mlflow.log_metric('rougeL', rouge_dict['rougeL'])\n",
    "            mlflow.log_metric('rougeLsum', rouge_dict['rougeLsum'])\n",
    "\n",
    "            run_id = run.info.run_id\n",
    "            experiment_id = run.info.experiment_id\n",
    "            model_name = \"samsum_pegasus_model\"\n",
    "            subpath = \"text_summarization\"\n",
    "            # build the run URI\n",
    "            run_uri = f'runs:/{run_id}/{subpath}'\n",
    "            mlflow.end_run()\n",
    "            print(f'artifact_uri= {mlflow.get_artifact_uri()}')\n",
    "            print(f'run_uri= {run_uri}')\n",
    "\n",
    "\n",
    "\n",
    "\n"
   ]
  },
  {
   "cell_type": "code",
   "execution_count": 33,
   "metadata": {},
   "outputs": [
    {
     "name": "stdout",
     "output_type": "stream",
     "text": [
      "[2023-08-09 23:35:20,983: INFO: common: yaml file: config\\config.yaml loaded successfully]\n",
      "[2023-08-09 23:35:20,987: INFO: common: yaml file: params.yaml loaded successfully]\n",
      "[2023-08-09 23:35:20,989: INFO: common: yaml file: secrets.yaml loaded successfully]\n",
      "[2023-08-09 23:35:20,990: INFO: common: created directory at: artifacts]\n",
      "[2023-08-09 23:35:20,991: INFO: common: created directory at: artifacts/model_evaluation]\n"
     ]
    },
    {
     "name": "stderr",
     "output_type": "stream",
     "text": [
      "100%|██████████| 5/5 [02:16<00:00, 27.34s/it]"
     ]
    },
    {
     "name": "stdout",
     "output_type": "stream",
     "text": [
      "[2023-08-09 23:37:49,587: INFO: rouge_scorer: Using default tokenizer.]\n"
     ]
    },
    {
     "name": "stderr",
     "output_type": "stream",
     "text": [
      "\n"
     ]
    },
    {
     "name": "stdout",
     "output_type": "stream",
     "text": [
      "\u001b[34mSystem information\u001b[0m: Windows 10.0.19041\n",
      "\u001b[34mPython version\u001b[0m: 3.8.17\n",
      "\u001b[34mMLflow version\u001b[0m: 2.5.0\n",
      "\u001b[34mMLflow module location\u001b[0m: c:\\Users\\Admin\\anaconda3\\envs\\mlops\\lib\\site-packages\\mlflow\\__init__.py\n",
      "\u001b[34mTracking URI\u001b[0m: https://dagshub.com/Nkifor/mlops-nlp-text-summarizer.mlflow\n",
      "\u001b[34mRegistry URI\u001b[0m: https://dagshub.com/Nkifor/mlops-nlp-text-summarizer.mlflow\n",
      "\u001b[34mActive experiment ID\u001b[0m: 4\n",
      "\u001b[34mActive run ID\u001b[0m: b8685dde8d2f4961b95759574f4e985f\n",
      "\u001b[34mActive run artifact URI\u001b[0m: mlflow-artifacts:/7c3315d8806244699f2dddb8e4262f96/b8685dde8d2f4961b95759574f4e985f/artifacts\n",
      "\u001b[34mMLflow environment variables\u001b[0m: \n",
      "  MLFLOW_TRACKING_PASSWORD: fd04345a366444082eb5d904028b0202035a370e\n",
      "  MLFLOW_TRACKING_URI: https://dagshub.com/Nkifor/mlops-nlp-text-summarizer.mlflow\n",
      "  MLFLOW_TRACKING_USERNAME: Nkifor\n",
      "\u001b[34mMLflow dependencies\u001b[0m: \n",
      "  Flask: 2.3.2\n",
      "  Jinja2: 3.1.2\n",
      "  alembic: 1.4.1\n",
      "  click: 8.1.4\n",
      "  cloudpickle: 2.2.1\n",
      "  databricks-cli: 0.17.7\n",
      "  docker: 6.1.3\n",
      "  entrypoints: 0.4\n",
      "  gitpython: 3.1.31\n",
      "  importlib-metadata: 6.8.0\n",
      "  markdown: 3.4.3\n",
      "  matplotlib: 3.7.2\n",
      "  numpy: 1.24.3\n",
      "  packaging: 23.1\n",
      "  pandas: 2.0.3\n",
      "  protobuf: 4.23.4\n",
      "  pyarrow: 11.0.0\n",
      "  pytz: 2022.7.1\n",
      "  pyyaml: 6.0\n",
      "  querystring-parser: 1.2.4\n",
      "  requests: 2.31.0\n",
      "  scikit-learn: 1.3.0\n",
      "  scipy: 1.10.1\n",
      "  sqlalchemy: 2.0.19\n",
      "  sqlparse: 0.4.4\n",
      "  waitress: 2.1.2\n"
     ]
    }
   ],
   "source": [
    "try:\n",
    "    config = ConfigurationManager()\n",
    "    model_evaluation_config = config.get_model_evaluation_config()\n",
    "    model_evaluation_config = ModelEvaluation(config=model_evaluation_config)\n",
    "    model_evaluation_config.evaluate()    \n",
    "except Exception as e:\n",
    "    raise e\n",
    "    "
   ]
  },
  {
   "cell_type": "code",
   "execution_count": null,
   "metadata": {},
   "outputs": [],
   "source": []
  }
 ],
 "metadata": {
  "kernelspec": {
   "display_name": "mlops",
   "language": "python",
   "name": "python3"
  },
  "language_info": {
   "codemirror_mode": {
    "name": "ipython",
    "version": 3
   },
   "file_extension": ".py",
   "mimetype": "text/x-python",
   "name": "python",
   "nbconvert_exporter": "python",
   "pygments_lexer": "ipython3",
   "version": "3.8.17"
  },
  "orig_nbformat": 4
 },
 "nbformat": 4,
 "nbformat_minor": 2
}
